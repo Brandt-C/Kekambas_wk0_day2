{
 "cells": [
  {
   "cell_type": "code",
   "execution_count": 1,
   "id": "4743e15a",
   "metadata": {},
   "outputs": [
    {
     "name": "stdout",
     "output_type": "stream",
     "text": [
      "hello world!\n"
     ]
    }
   ],
   "source": [
    "print('hello world!')"
   ]
  },
  {
   "cell_type": "code",
   "execution_count": 15,
   "id": "a83ec538",
   "metadata": {},
   "outputs": [],
   "source": [
    "z = 90827349"
   ]
  },
  {
   "cell_type": "code",
   "execution_count": 6,
   "id": "6f891e4d",
   "metadata": {},
   "outputs": [],
   "source": [
    "y = 67"
   ]
  },
  {
   "cell_type": "code",
   "execution_count": 3,
   "id": "7ccc15ed",
   "metadata": {},
   "outputs": [],
   "source": [
    "x = 5"
   ]
  },
  {
   "cell_type": "markdown",
   "id": "bc5a96c3",
   "metadata": {},
   "source": [
    "## This is a heading!!! (level 2 heading)"
   ]
  },
  {
   "cell_type": "code",
   "execution_count": 9,
   "id": "3a906144",
   "metadata": {},
   "outputs": [
    {
     "name": "stdout",
     "output_type": "stream",
     "text": [
      "5 67 90827349\n"
     ]
    }
   ],
   "source": [
    "print(x, y , z)"
   ]
  },
  {
   "cell_type": "code",
   "execution_count": null,
   "id": "353f4e21",
   "metadata": {},
   "outputs": [],
   "source": [
    "#this is just a python cell!"
   ]
  },
  {
   "cell_type": "code",
   "execution_count": null,
   "id": "3e86f27b",
   "metadata": {},
   "outputs": [],
   "source": []
  }
 ],
 "metadata": {
  "kernelspec": {
   "display_name": "Python 3 (ipykernel)",
   "language": "python",
   "name": "python3"
  },
  "language_info": {
   "codemirror_mode": {
    "name": "ipython",
    "version": 3
   },
   "file_extension": ".py",
   "mimetype": "text/x-python",
   "name": "python",
   "nbconvert_exporter": "python",
   "pygments_lexer": "ipython3",
   "version": "3.9.7"
  }
 },
 "nbformat": 4,
 "nbformat_minor": 5
}
